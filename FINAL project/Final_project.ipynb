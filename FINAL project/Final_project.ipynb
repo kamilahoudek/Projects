{
  "nbformat": 4,
  "nbformat_minor": 0,
  "metadata": {
    "colab": {
      "provenance": [],
      "authorship_tag": "ABX9TyM0ndGXMHjBdsamyveKeWyZ",
      "include_colab_link": true
    },
    "kernelspec": {
      "name": "python3",
      "display_name": "Python 3"
    },
    "language_info": {
      "name": "python"
    }
  },
  "cells": [
    {
      "cell_type": "markdown",
      "metadata": {
        "id": "view-in-github",
        "colab_type": "text"
      },
      "source": [
        "<a href=\"https://colab.research.google.com/github/richardparik/Projects/blob/master/Final_project.ipynb\" target=\"_parent\"><img src=\"https://colab.research.google.com/assets/colab-badge.svg\" alt=\"Open In Colab\"/></a>"
      ]
    },
    {
      "cell_type": "markdown",
      "source": [
        "# Brain Tumor"
      ],
      "metadata": {
        "id": "6AYoIAX6Zi5F"
      }
    },
    {
      "cell_type": "markdown",
      "source": [
        "Dataset k projektu\n",
        "https://www.kaggle.com/datasets/denizkavi1/brain-tumor?resource=download\n",
        "\n",
        "1. 1 Meningioma samples (708 files)\n",
        "2. 2 Glioma samples (1426 files)\n",
        "3. 3 Pituitary tumor samples (930 files)\n",
        "\n"
      ],
      "metadata": {
        "id": "AyKQN2QZZhU4"
      }
    },
    {
      "cell_type": "code",
      "execution_count": null,
      "metadata": {
        "id": "Ryc2U9HAY5Z8"
      },
      "outputs": [],
      "source": [
        "zmena zmeny"
      ]
    }
  ]
}