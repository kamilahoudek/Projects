{
  "nbformat": 4,
  "nbformat_minor": 0,
  "metadata": {
    "colab": {
      "provenance": [],
      "toc_visible": true
    },
    "kernelspec": {
      "name": "python3",
      "display_name": "Python 3"
    },
    "language_info": {
      "name": "python"
    }
  },
  "cells": [
    {
      "cell_type": "markdown",
      "source": [
        "Unsupervised learning project - World Bank dataset"
      ],
      "metadata": {
        "id": "4sFHXD7iNBAt"
      }
    },
    {
      "cell_type": "markdown",
      "source": [
        "Import libraries"
      ],
      "metadata": {
        "id": "v7QQxdt_V_PF"
      }
    },
    {
      "cell_type": "code",
      "source": [
        "import numpy as np\n",
        "import pandas as pd\n",
        "import seaborn as sns\n",
        "import matplotlib.pyplot as plt\n",
        "from matplotlib.lines import Line2D\n",
        "from sklearn.preprocessing import StandardScaler\n",
        "from sklearn.cluster import KMeans\n",
        "from sklearn.decomposition import PCA\n",
        "from sklearn.metrics import silhouette_score, accuracy_score\n",
        "import geopandas as gpd\n"
      ],
      "metadata": {
        "id": "wAiCnXNY28ca"
      },
      "execution_count": null,
      "outputs": []
    },
    {
      "cell_type": "markdown",
      "source": [
        "Načíst data a přejmenovat sloupce"
      ],
      "metadata": {
        "id": "hln-2MYLONEH"
      }
    },
    {
      "cell_type": "code",
      "source": [
        "df = pd.read_excel(\"CountryData.xlsx\", sheet_name=\"Data\")\n",
        "df.columns = [\"Country\", \"CountryName\", \"ForeignInvestment\", \"ElectricityAccess\", \"RenewableEnergy\", \"CO2Emission\", \"Inflation\", \"MobileSubscriptions\", \"InternetUse\", \"Exports\",\"Imports\", \"GDP\", \"MortalityMale\", \"MortalityFemale\", \"BirthRate\", \"DeathRate\", \"MortalityInfant\", \"LifeEcpectancy\", \"FertilityRate\", \"PopulationGrowth\", \"UrbanPopulation\"]\n",
        "df.head()"
      ],
      "metadata": {
        "id": "9BARVlbQOI41"
      },
      "execution_count": null,
      "outputs": []
    },
    {
      "cell_type": "markdown",
      "source": [
        "Úkol č. 1: Zkontrolovat chybějící hodnoty (NaN)"
      ],
      "metadata": {
        "id": "6VxQnTPkuXtz"
      }
    },
    {
      "cell_type": "code",
      "source": [
        "df.isna().sum()"
      ],
      "metadata": {
        "id": "STIkZiF7t-kA"
      },
      "execution_count": null,
      "outputs": []
    },
    {
      "cell_type": "markdown",
      "source": [
        "Úkol č. 2: Doplnit chybějící hodnoty (např. průměrem daného sloupce)"
      ],
      "metadata": {
        "id": "64fjdrA9vQ8u"
      }
    },
    {
      "cell_type": "code",
      "source": [
        "X = df.iloc[:, 2:]\n",
        "X = X.fillna(X.mean())\n",
        "X.head()"
      ],
      "metadata": {
        "id": "efMowDvJvqBW"
      },
      "execution_count": null,
      "outputs": []
    },
    {
      "cell_type": "markdown",
      "source": [
        "Úkol č. 3: Standardizovat data"
      ],
      "metadata": {
        "id": "yh_lFOIYvTIu"
      }
    },
    {
      "cell_type": "code",
      "source": [
        "scaler = StandardScaler()\n",
        "X_scaled = scaler.fit_transform(X)\n",
        "X_scaled"
      ],
      "metadata": {
        "id": "Uduo2Blnvd_P"
      },
      "execution_count": null,
      "outputs": []
    },
    {
      "cell_type": "markdown",
      "source": [
        "Úkol č. 4: Aplikovat shlukovací algoritmus na škálované proměnné, přiřadit label každé zemi, odpovídající shluku, ke kterému byla přiřazena.\n",
        "Přířadit label k původním datům pomocí\n",
        "data['label'] = y_pred"
      ],
      "metadata": {
        "id": "RgK-gjCMvuZt"
      }
    },
    {
      "cell_type": "code",
      "source": [
        "# Clustering (k-means), 1-5 clusters\n",
        "ks = range(1, 6)\n",
        "# Inertia (SSE - sum of squared errors, the lower the better)\n",
        "inertias = []\n",
        "for k in ks:\n",
        "    model = KMeans(n_clusters=k, n_init=\"auto\")\n",
        "    model.fit(X_scaled)\n",
        "    inertias.append(model.inertia_)"
      ],
      "metadata": {
        "id": "oDz2UoStwG92"
      },
      "execution_count": null,
      "outputs": []
    },
    {
      "cell_type": "code",
      "source": [
        "# Creating plot and choosing the most suitable number of clusters\n",
        "fig, ax = plt.subplots(figsize=(6, 4))\n",
        "ax.plot(ks, inertias, \"-o\")\n",
        "ax.set_xlabel(\"Number of clusters, k\")\n",
        "ax.set_ylabel(\"Sum of squared distance\") # SSE\n",
        "ax.grid(True)\n",
        "# ax.set_xticks(ks)\n",
        "plt.show()"
      ],
      "metadata": {
        "id": "xjWgHHUtwb2J"
      },
      "execution_count": null,
      "outputs": []
    },
    {
      "cell_type": "code",
      "source": [
        "# Perform clustering with k-means\n",
        "kmeans = KMeans(n_clusters=3, random_state=0).fit(X_scaled)   # choice of number of clusters\n",
        "y_pred = kmeans.labels_"
      ],
      "metadata": {
        "id": "68kqfDJ5w5Jj"
      },
      "execution_count": null,
      "outputs": []
    },
    {
      "cell_type": "code",
      "source": [
        "# Perform clustering with k-means and calculate silhouette score\n",
        "kmeans = KMeans(n_clusters=3, n_init=\"auto\")  # choice of number of clusters, test with different number of clusters\n",
        "y_pred = kmeans.fit_predict(X_scaled)\n",
        "\n",
        "# Calculate the silhouette score\n",
        "score = silhouette_score(X_scaled, y_pred)\n",
        "\n",
        "print(f\"Silhouette Score: {score}\")"
      ],
      "metadata": {
        "id": "z6G7dPSrstlx"
      },
      "execution_count": null,
      "outputs": []
    },
    {
      "cell_type": "code",
      "source": [
        "# Function to calculate the Purity score\n",
        "def purity_score(y_true, y_pred):\n",
        "    # Compute contingency matrix (also called confusion matrix)\n",
        "    contingency_matrix = np.histogram2d(y_true, y_pred, bins=(np.max(y_true) + 1, np.max(y_pred) + 1))[0]\n",
        "\n",
        "    # Find the maximum value in each column and sum them up\n",
        "    purity = np.sum(np.amax(contingency_matrix, axis=0)) / np.sum(contingency_matrix)\n",
        "    return purity\n",
        "\n",
        "# Example usage - NUTNO UPRAVIT\n",
        "# y_true is the array of true labels\n",
        "# y_pred is the array of predicted cluster labels\n",
        "y_true = np.array([1, 0, 0, 1, 1, 1, 0, 0, 0, 1])\n",
        "y_pred = np.array([0, 0, 0, 1, 1, 1, 0, 0, 1, 1])\n",
        "\n",
        "score = purity_score(y_true, y_pred)\n",
        "print(f\"Purity Score: {score}\")"
      ],
      "metadata": {
        "id": "-RErFoghwoYV"
      },
      "execution_count": null,
      "outputs": []
    },
    {
      "cell_type": "code",
      "source": [
        "# Set label to original data\n",
        "df[\"label\"] = y_pred"
      ],
      "metadata": {
        "id": "cc_5ayNhxMRm"
      },
      "execution_count": null,
      "outputs": []
    },
    {
      "cell_type": "code",
      "source": [
        "# Load world map\n",
        "world = gpd.read_file(gpd.datasets.get_path(\"naturalearth_lowres\"))\n",
        "\n",
        "# Merging world DataFrame (containing the world map) with our \"df\" that has additional data you want to visualize on the map\n",
        "world = world.merge(df, left_on=\"iso_a3\", right_on=\"Country\", how=\"left\")"
      ],
      "metadata": {
        "id": "9FRdgw9MxzA9"
      },
      "execution_count": null,
      "outputs": []
    },
    {
      "cell_type": "code",
      "source": [
        "# How many different clusters we have\n",
        "cluster_labels = np.unique(y_pred)"
      ],
      "metadata": {
        "id": "Iq61DWlCycU1"
      },
      "execution_count": null,
      "outputs": []
    },
    {
      "cell_type": "markdown",
      "source": [
        "Úkol č. 5: Vizualizovat výsledky"
      ],
      "metadata": {
        "id": "504DCBp6ymYM"
      }
    },
    {
      "cell_type": "code",
      "source": [
        "# Choosing colors\n",
        "colors = [\"yellow\", \"lightgreen\", \"lightblue\"]\n",
        "# Map clusters to colors\n",
        "color_map = {cluster: colors[i] for i, cluster in enumerate(cluster_labels)}\n",
        "\n",
        "# Assign colors to countries based on cluster labels, default to gray, if NaN\n",
        "world[\"color\"] = world[\"label\"].map(color_map).fillna(\"lightgray\")\n",
        "\n",
        "# Plot the map with clusters\n",
        "fig, ax = plt.subplots(1, 1, figsize=(10, 6))\n",
        "world.boundary.plot(ax=ax, linewidth=1)\n",
        "world.plot(color=world[\"color\"], ax=ax, legend=False)\n",
        "\n",
        "# Create custom legend\n",
        "legend_handles = [Line2D([0], [0], marker=\"o\", color=\"w\", markerfacecolor=color_map[cluster], markersize=10, label=f\"Shluk {cluster}\")\n",
        "    for cluster in cluster_labels if not pd.isna(cluster)]\n",
        "legend_handles.append(Line2D([0], [0], marker=\"o\", color=\"w\", markerfacecolor=\"lightgray\", markersize=10, label=\"Nepřiřazeno\" ))\n",
        "ax.legend(handles=legend_handles, title=\"Číslo shluku\", loc=\"lower left\")\n",
        "\n",
        "# Add title and show the plot\n",
        "plt.title(\"Segmentace zemí podle k-means algoritmu\")\n",
        "plt.show()\n"
      ],
      "metadata": {
        "colab": {
          "base_uri": "https://localhost:8080/",
          "height": 211
        },
        "id": "XmL4Kz6bf7Vk",
        "outputId": "0bbe1748-e213-4186-a50a-bb04089e1fc0"
      },
      "execution_count": null,
      "outputs": [
        {
          "output_type": "error",
          "ename": "NameError",
          "evalue": "name 'cluster_labels' is not defined",
          "traceback": [
            "\u001b[0;31m---------------------------------------------------------------------------\u001b[0m",
            "\u001b[0;31mNameError\u001b[0m                                 Traceback (most recent call last)",
            "\u001b[0;32m<ipython-input-8-65974aefb591>\u001b[0m in \u001b[0;36m<cell line: 0>\u001b[0;34m()\u001b[0m\n\u001b[1;32m      1\u001b[0m \u001b[0mcolors\u001b[0m \u001b[0;34m=\u001b[0m \u001b[0;34m[\u001b[0m\u001b[0;34m\"red\"\u001b[0m\u001b[0;34m,\u001b[0m \u001b[0;34m\"green\"\u001b[0m\u001b[0;34m,\u001b[0m \u001b[0;34m\"blue\"\u001b[0m\u001b[0;34m]\u001b[0m\u001b[0;34m\u001b[0m\u001b[0;34m\u001b[0m\u001b[0m\n\u001b[1;32m      2\u001b[0m \u001b[0;31m# Map clusters to colors\u001b[0m\u001b[0;34m\u001b[0m\u001b[0;34m\u001b[0m\u001b[0m\n\u001b[0;32m----> 3\u001b[0;31m \u001b[0mcolor_map\u001b[0m \u001b[0;34m=\u001b[0m \u001b[0;34m{\u001b[0m\u001b[0mcluster\u001b[0m\u001b[0;34m:\u001b[0m \u001b[0mcolors\u001b[0m\u001b[0;34m[\u001b[0m\u001b[0mi\u001b[0m\u001b[0;34m]\u001b[0m \u001b[0;32mfor\u001b[0m \u001b[0mi\u001b[0m\u001b[0;34m,\u001b[0m \u001b[0mcluster\u001b[0m \u001b[0;32min\u001b[0m \u001b[0menumerate\u001b[0m\u001b[0;34m(\u001b[0m\u001b[0mcluster_labels\u001b[0m\u001b[0;34m)\u001b[0m\u001b[0;34m}\u001b[0m\u001b[0;34m\u001b[0m\u001b[0;34m\u001b[0m\u001b[0m\n\u001b[0m\u001b[1;32m      4\u001b[0m \u001b[0;34m\u001b[0m\u001b[0m\n\u001b[1;32m      5\u001b[0m \u001b[0;31m# Assign colors to countries based on cluster labels, default to gray, if NaN\u001b[0m\u001b[0;34m\u001b[0m\u001b[0;34m\u001b[0m\u001b[0m\n",
            "\u001b[0;31mNameError\u001b[0m: name 'cluster_labels' is not defined"
          ]
        }
      ]
    },
    {
      "cell_type": "markdown",
      "source": [
        "Úkol č. 6: Interpretovat výsledky - k jaké segmentaci došlo? Očekávali bychom jiné rozdělení?"
      ],
      "metadata": {
        "id": "7F9gqay3yuFw"
      }
    },
    {
      "cell_type": "markdown",
      "source": [
        "Úkol č. 7: Zkuste aplikovat jiný algoritmus. Jak se změnily výsledky?"
      ],
      "metadata": {
        "id": "91YxxM7wy1o0"
      }
    },
    {
      "cell_type": "code",
      "source": [
        "# Apply new algorithm\n"
      ],
      "metadata": {
        "id": "U1nWjIrautHQ"
      },
      "execution_count": null,
      "outputs": []
    },
    {
      "cell_type": "markdown",
      "source": [
        "Úkol č. 8: Aplikujte PCA na škálované proměnné. Kolik variability je vysvětleno prvními dvěma komponentami?"
      ],
      "metadata": {
        "id": "9gJ2xdSqy8yQ"
      }
    },
    {
      "cell_type": "markdown",
      "source": [
        "Principal Component Analysis (PCA)\n",
        "PCA: PCA is a technique used for reducing the dimensionality of large datasets while preserving as much variance as possible. It transforms the original variables into a new set of uncorrelated variables called principal components.\n",
        "\n",
        "Purpose: It's commonly used to simplify data, speed up machine learning algorithms, and visualize high-dimensional data.\n",
        "\n",
        "Scree Plot\n",
        "Scree Plot: This is a graphical representation used in PCA to display the variance explained by each principal component. It plots the eigenvalues (variance) of each principal component in descending order.\n",
        "\n",
        "Purpose: It's helpful in determining the optimal number of principal components to retain. Typically, you look for an \"elbow\" point in the plot, where the explained variance starts to level off. This indicates the point where adding more components yields diminishing returns."
      ],
      "metadata": {
        "id": "rdJx-ncErNbm"
      }
    },
    {
      "cell_type": "code",
      "source": [
        "# PCA model\n",
        "model = PCA()\n",
        "pca_features = model.fit_transform(X_scaled)\n",
        "explained_variance = model.explained_variance_ratio\n",
        "\n",
        "# Scree plot\n",
        "plt.figure(figsize=(6, 4))\n",
        "plt.plot(range(1, len(explained_variance) + 1), explained_variance, marker=\"o\", linestyle=\"--\")\n",
        "plt.xlabel(\"Principal Component\")\n",
        "plt.ylabel(\"Explained Variance\")\n",
        "plt.title(\"Scree Plot\")\n",
        "plt.show()\n",
        "# plt.plot(np.cumsum(model.explained_variance_ratio_))\n",
        "# plt.xlabel(\"Number of components\")\n",
        "# plt.ylabel(\"Cumulative explained variance\")\n",
        "# plt.title(\"Scree Plot\")\n",
        "# plt.show()\n",
        "\n",
        "# Improve x-axis tick labels\n",
        "plt.xticks(ticks=np.arange(1, len(explained_variance) + 1), rotation=45)\n",
        "\n",
        "# Add gridlines\n",
        "plt.grid(True, linestyle=\"--\", linewidth=0.5)\n",
        "plt.show()\n"
      ],
      "metadata": {
        "id": "k3lnhOhczF-2"
      },
      "execution_count": null,
      "outputs": []
    },
    {
      "cell_type": "markdown",
      "source": [
        "Úkol č. 9: Vizualizujte scatteplot bodů PCA1 vs. PCA2. Vybarvěte body podle přiřazeného shluku."
      ],
      "metadata": {
        "id": "cMOI_Mbk1Cu4"
      }
    },
    {
      "cell_type": "code",
      "source": [
        "# Extract the labels\n",
        "labels = df[\"label\"]\n",
        "\n",
        "unique_labels = np.unique(labels)\n",
        "cmap = plt.cm.get_cmap(\"tab10\", len(unique_labels))\n",
        "# colors = sns.color_palette(\"colorblind\", len(unique_labels))\n",
        "\n",
        "# Create scatterplot\n",
        "plt.figure(figsize=(8, 6))"
      ],
      "metadata": {
        "id": "W6bQ7_TJ1Mq9"
      },
      "execution_count": null,
      "outputs": []
    },
    {
      "cell_type": "markdown",
      "source": [
        "Úkol č. 10: Se kterými z původních (škálovaných) proměnných je PCA1 silně korelována? (to samé provést i pro PCA2)"
      ],
      "metadata": {
        "id": "luGFPYNa1k4b"
      }
    },
    {
      "cell_type": "code",
      "source": [
        "# Extract PCA1\n",
        "pca1 = pca_features[:, 0]\n",
        "\n",
        "# Compute correlations\n",
        "correlations = np.corrcoef(pca1, X_scaled, rowvar=False)[0, 1:]\n",
        "\n",
        "# Create a list of tuples (correlation, column name)\n",
        "correlation_list = [(correlations[i], col) for i, col in enumerate(X.columns)]\n",
        "\n",
        "# Sort the list of tuples in descending order of correlation\n",
        "sorted_correlations = sorted(correlation_list, key=lambda x: x[0], reverse=True)\n",
        "\n",
        "# Print sorted correlations\n",
        "for corr, col in sorted_correlations:\n",
        "    print(f\"Correlation between PCA1 and {col}: {corr:.2f}\")\n",
        "\n"
      ],
      "metadata": {
        "id": "7KTNuf0i1wwt"
      },
      "execution_count": null,
      "outputs": []
    },
    {
      "cell_type": "code",
      "source": [
        "# Extract PCA2\n",
        "pca2 = pca_features[:, 1]\n",
        "\n",
        "# Compute correlations\n",
        "correlations = np.corrcoef(pca2, X_scaled, rowvar=False)[0, 1:]\n",
        "\n",
        "# Create a list of tuples (correlation, column name)\n",
        "correlation_list = [(correlations[i], col) for i, col in enumerate(X.columns)]\n",
        "\n",
        "# Sort the list of tuples in descending order of correlation\n",
        "sorted_correlations = sorted(correlation_list, key=lambda x: x[0], reverse=True)\n",
        "\n",
        "# Print sorted correlations\n",
        "for corr, col in sorted_correlations:\n",
        "    print(f\"Correlation between PCA2 and {col}: {corr:.2f}\")\n"
      ],
      "metadata": {
        "id": "J_FaC0PA2r39"
      },
      "execution_count": null,
      "outputs": []
    },
    {
      "cell_type": "markdown",
      "source": [
        "Úkol č. 11: Dokážeme interpretovat, jaká charakteristika se skrývá pod PCA1 a PCA2 ?"
      ],
      "metadata": {
        "id": "4hu_QuKM26yW"
      }
    }
  ]
}